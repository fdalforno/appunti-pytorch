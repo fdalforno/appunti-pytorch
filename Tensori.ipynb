{
 "cells": [
  {
   "cell_type": "code",
   "execution_count": 7,
   "metadata": {},
   "outputs": [],
   "source": [
    "import torch\n",
    "import numpy as np\n",
    "\n",
    "# creiamo un tensore da un array\n",
    "new_tensor = torch.Tensor([[1, 2], [3, 4]])\n",
    "\n",
    "# creiamo un tensore 2x3 con valori random\n",
    "empty_tensor = torch.Tensor(2, 3)\n",
    "\n",
    "# creiamo un tensore 2x3 con valori random -1 e 1\n",
    "uniform_tensor = torch.Tensor(2, 3).uniform_(-1, 1)\n",
    "\n",
    "# creiamo un tensore 2x3 con valori random distribuiti nell'intervallo [0, 1)\n",
    "rand_tensor = torch.rand(2, 3)\n",
    "\n",
    "# creiamo un tensore 2x3 con valori a zero\n",
    "zero_tensor = torch.zeros(2, 3)"
   ]
  },
  {
   "cell_type": "code",
   "execution_count": 3,
   "metadata": {},
   "outputs": [
    {
     "name": "stdout",
     "output_type": "stream",
     "text": [
      "tensor([[5., 2.],\n",
      "        [3., 4.]])\n",
      "tensor(3.)\n",
      "3.0\n",
      "tensor([1., 4., 7.])\n",
      "tensor([3., 6., 9.])\n",
      "tensor([7., 8., 9.])\n",
      "tensor([[1., 2., 3.],\n",
      "        [4., 5., 6.]])\n"
     ]
    }
   ],
   "source": [
    "new_tensor = torch.Tensor([[1, 2], [3, 4]])\n",
    "\n",
    "# rimpiazzo un elemento alla posizione 0, 0\n",
    "new_tensor[0][0] = 5\n",
    "print(new_tensor)\n",
    "\n",
    "# leggo l'elemento alla posizione 1, 0\n",
    "print(new_tensor[1][0])           # tensor([ 3.])\n",
    "# per ottenere lo scalare va usata la funzione item\n",
    "print(new_tensor[1][0].item())    # 3.\n",
    "\n",
    "\n",
    "## esempi di slicing\n",
    "slice_tensor = torch.Tensor([[1, 2, 3], [4, 5, 6], [7, 8, 9]])\n",
    "# elements from every row, first column\n",
    "print(slice_tensor[:, 0])         # tensor([ 1.,  4.,  7.])\n",
    "# elements from every row, last column\n",
    "print(slice_tensor[:, -1])        # tensor([ 3.,  6.,  9.])\n",
    "# all elements on the second row\n",
    "print(slice_tensor[2, :])         # tensor([ 4.,  5.,  6.])\n",
    "# all elements from first two rows\n",
    "print(slice_tensor[:2, :])        # tensor([[ 1.,  2.,  3.], [ 4.,  5.,  6.]])"
   ]
  },
  {
   "cell_type": "code",
   "execution_count": 4,
   "metadata": {},
   "outputs": [
    {
     "name": "stdout",
     "output_type": "stream",
     "text": [
      "torch.FloatTensor\n",
      "torch.Size([2, 2])\n",
      "torch.Size([2, 2])\n",
      "2\n"
     ]
    }
   ],
   "source": [
    "new_tensor = torch.Tensor([[1, 2], [3, 4]])\n",
    "\n",
    "# ottengo il tipo del tensore\n",
    "print(new_tensor.type())   # 'torch.FloatTensor'\n",
    "\n",
    "# ottendo le dimensioni del tensore\n",
    "print(new_tensor.shape)    # torch.Size([2, 2])\n",
    "print(new_tensor.size())   # torch.Size([2, 2])\n",
    "\n",
    "# ritorna il numero di dimensioni del tensore in questo caso essendo una matrice ne escono 2\n",
    "print(new_tensor.dim())    # 2"
   ]
  },
  {
   "cell_type": "code",
   "execution_count": 5,
   "metadata": {},
   "outputs": [
    {
     "data": {
      "text/plain": [
       "tensor([[1.],\n",
       "        [2.],\n",
       "        [3.],\n",
       "        [4.]])"
      ]
     },
     "execution_count": 5,
     "metadata": {},
     "output_type": "execute_result"
    }
   ],
   "source": [
    "# per fare il reshape del tensore\n",
    "reshape_tensor = torch.Tensor([[1, 2], [3, 4]])\n",
    "reshape_tensor.view(1,4)   # tensor([[ 1.,  2.,  3.,  4.]])\n",
    "reshape_tensor.view(4,1)   # tensor([[ 1.],[ 2.],[ 3.],[ 4.]])"
   ]
  },
  {
   "cell_type": "code",
   "execution_count": 9,
   "metadata": {},
   "outputs": [],
   "source": [
    "#integrazione tra numpy e pytorch\n",
    "np_ndarray = np.random.randn(2,2)\n",
    "# NumPy ndarray to PyTorch tensor\n",
    "to_tensor = torch.from_numpy(np_ndarray)\n",
    "# PyTorch tensor to NumPy array\n",
    "to_ndarray = to_tensor.numpy()"
   ]
  },
  {
   "cell_type": "markdown",
   "metadata": {},
   "source": [
    "Operazioni tra tensori"
   ]
  },
  {
   "cell_type": "code",
   "execution_count": 11,
   "metadata": {},
   "outputs": [],
   "source": [
    "my_tensor = torch.Tensor([[1, 2], [3, 4]])\n",
    "\n",
    "# regular transpose function\n",
    "my_tensor.t()\n",
    "# transpose via permute function\n",
    "my_tensor.permute(-1,0)\n",
    "\n",
    "tensor_1 = torch.randn(3, 3)\n",
    "tensor_2 = torch.randn(3, 3)\n",
    "cross_prod = tensor_1.cross(tensor_2)\n",
    "\n",
    "maxtrix_prod = tensor_1.mm(tensor_2)"
   ]
  },
  {
   "cell_type": "code",
   "execution_count": 12,
   "metadata": {},
   "outputs": [
    {
     "name": "stdout",
     "output_type": "stream",
     "text": [
      "Scheda video NON presente\n"
     ]
    }
   ],
   "source": [
    "if torch.cuda.is_available():\n",
    "    print(\"Scheda video presente\")\n",
    "else:\n",
    "    print(\"Scheda video NON presente\")"
   ]
  },
  {
   "cell_type": "code",
   "execution_count": 13,
   "metadata": {},
   "outputs": [],
   "source": [
    "if torch.cuda.is_available():\n",
    "    tensor_1 = tensor_1.cuda()\n",
    "    tensor_2 = tensor_2.cuda()\n",
    "    tensor_1 + tensor_2"
   ]
  },
  {
   "cell_type": "code",
   "execution_count": null,
   "metadata": {},
   "outputs": [],
   "source": []
  }
 ],
 "metadata": {
  "kernelspec": {
   "display_name": "Python 3",
   "language": "python",
   "name": "python3"
  },
  "language_info": {
   "codemirror_mode": {
    "name": "ipython",
    "version": 3
   },
   "file_extension": ".py",
   "mimetype": "text/x-python",
   "name": "python",
   "nbconvert_exporter": "python",
   "pygments_lexer": "ipython3",
   "version": "3.7.4"
  }
 },
 "nbformat": 4,
 "nbformat_minor": 2
}
